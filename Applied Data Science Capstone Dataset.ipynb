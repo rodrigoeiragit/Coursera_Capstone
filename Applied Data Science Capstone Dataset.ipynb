{
 "cells": [
  {
   "cell_type": "markdown",
   "metadata": {},
   "source": [
    "## Applied Data Science Capstone"
   ]
  },
  {
   "cell_type": "markdown",
   "metadata": {},
   "source": [
    "### Introduction/Business Problem"
   ]
  },
  {
   "cell_type": "markdown",
   "metadata": {},
   "source": [
    "This study aims at to predict the severity of an accident, given the weather and road conditions."
   ]
  },
  {
   "cell_type": "markdown",
   "metadata": {},
   "source": [
    "The analysis aims to determine a set of possible causes that contribute to the increase in the severity of accidents to allow preventive actions by road users."
   ]
  },
  {
   "cell_type": "markdown",
   "metadata": {},
   "source": [
    "The targets audience of the project are rescue groups, police and insurance companys."
   ]
  },
  {
   "cell_type": "markdown",
   "metadata": {},
   "source": [
    "It's expected to achieve a reduction in the number and severity of accidents."
   ]
  },
  {
   "cell_type": "markdown",
   "metadata": {},
   "source": [
    "### About dataset"
   ]
  },
  {
   "attachments": {},
   "cell_type": "markdown",
   "metadata": {},
   "source": [
    "This dataset is about collisions that occurred between 2004 and 2020 in the city of Seattle. The __Data-Collisions.csv__ data set includes details of 194673 collisions.\n",
    "\n",
    "It includes following fields:\n",
    "\n",
    "| Field          | Description                                                                           |\n",
    "|----------------|---------------------------------------------------------------------------------------|\n",
    "| OBJECTID       | ESRI unique identifier                                                                |\n",
    "| ADDRTYPE       | Collision address type (Alley/Block/Intersection)                                     |\n",
    "| SEVERITYCODE   | A code that corresponds to the severity of the collision                              |\n",
    "|                |(3—fatality / 2b—serious injury / 2—injury / 1—prop damage / 0—unknown)                |         \n",
    "| (X, Y)         | Spatial characteristics                                                               |\n",
    "| INTKEY         | Key that corresponds to the intersection associated with a collision                  |\n",
    "| LOCATION       | Description of the general location of the collision                                  |\n",
    "| SEVERITYDESC   | A detailed description of the severity of the collision                               |\n",
    "| COLLISIONTYPE  | Collision type                                                                        |\n",
    "| PERSONCOUNT    | The total number of people involved in the collision                                  |\n",
    "| PEDCOUNT       | The number of pedestrians involved in the collision                                   |\n",
    "| PEDCYLCOUNT    | The number of bicycles involved in the collision                                      |\n",
    "| VEHCOUNT       | The number of vehicles involved in the collision                                      |\n",
    "| INCDTTM        | The date and time of the incident                                                     |\n",
    "| JUNCTIONTYPE\t | Category of junction at which collision took place                                    |\n",
    "| SDOT_COLCODE\t | A code given to the collision by SDOT                                                 |\n",
    "| SDOT_COLDESC\t | A description of the collision corresponding to the collision code                    |\n",
    "| INATTENTIONIND | Whether or not collision was due to inattention                                       |\n",
    "| UNDERINFL\t     | Whether or not a driver involved was under the influence of drugs or alcohol          |\n",
    "| WEATHER\t     | A description of the weather conditions during the time of the collision.             |\n",
    "| ROADCOND       | The condition of the road during the collision                                        |\n",
    "| LIGHTCOND\t     | The light conditions during the collision                                             |\n",
    "| PEDROWNOTGRNT  | Whether or not the pedestrian right of way was not granted (Y/N)                      |\n",
    "| SPEEDING       |\tWhether or not speeding was a factor in the collision (Y/N)                          |\n",
    "| SEGLANEKEY     | A key for the lane segment in which the collision occurred                            |\t\n",
    "| CROSSWALKKEY   | A key for the crosswalk at which the collision occurred                               |\n",
    "| HITPARKEDCAR   | Whether or not the collision involved hitting a parked car (Y/N)                      |"
   ]
  },
  {
   "cell_type": "code",
   "execution_count": null,
   "metadata": {},
   "outputs": [],
   "source": []
  }
 ],
 "metadata": {
  "kernelspec": {
   "display_name": "Python 3",
   "language": "python",
   "name": "python3"
  },
  "language_info": {
   "codemirror_mode": {
    "name": "ipython",
    "version": 3
   },
   "file_extension": ".py",
   "mimetype": "text/x-python",
   "name": "python",
   "nbconvert_exporter": "python",
   "pygments_lexer": "ipython3",
   "version": "3.8.5"
  }
 },
 "nbformat": 4,
 "nbformat_minor": 4
}
