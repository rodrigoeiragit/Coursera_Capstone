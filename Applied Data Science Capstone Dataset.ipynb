{
 "cells": [
  {
   "cell_type": "markdown",
   "metadata": {},
   "source": [
    "## Applied Data Science Capstone"
   ]
  },
  {
   "cell_type": "markdown",
   "metadata": {},
   "source": [
    "### Introduction/Business Problem"
   ]
  },
  {
   "cell_type": "markdown",
   "metadata": {},
   "source": [
    "The Seattle government is concerned with the severity and number of accidents and wants to employ actions based on the analysis of historical data to alert drivers of the imminence of accidents."
   ]
  },
  {
   "cell_type": "markdown",
   "metadata": {},
   "source": [
    "This study aims to predict the severity of an accident, given the locations, weather and road conservation."
   ]
  },
  {
   "cell_type": "markdown",
   "metadata": {},
   "source": [
    "The analysis aims to determine a set of possible causes that contribute to the increase in the severity of accidents to allow preventive actions by road users."
   ]
  },
  {
   "cell_type": "markdown",
   "metadata": {},
   "source": [
    "The targets audience of the project are drivers, rescue groups, police and insurance companys."
   ]
  },
  {
   "cell_type": "markdown",
   "metadata": {},
   "source": [
    "It's expected to achieve a reduction in the number and severity of accidents to make drivers and passengers more secure."
   ]
  },
  {
   "cell_type": "markdown",
   "metadata": {},
   "source": [
    "### About dataset"
   ]
  },
  {
   "cell_type": "markdown",
   "metadata": {},
   "source": [
    "This dataset is about collisions that occurred between 2004 and 2020 in the city of Seattle. The __Data-Collisions.csv__ data set includes details of 194673 collisions provided by the Seattle Department of Transportation Traffic Management Division.\n",
    "\n",
    "It includes following fields:\n",
    "\n",
    "| Field          | Description                                                                           |\n",
    "|----------------|---------------------------------------------------------------------------------------|\n",
    "| OBJECTID       | Unique identifier                                                                     |\n",
    "| ADDRTYPE       | Collision address type                                                                |\n",
    "|                |    (Alley/Block/Intersection)                                                         |\n",
    "| SEVERITYCODE   | A code that corresponds to the severity of the collision                              |\n",
    "|                |    (3—fatality / 2b—serious injury / 2—injury / 1—prop damage / 0—unknown)            |         \n",
    "| (X, Y)         | Spatial characteristics                                                               |\n",
    "| INTKEY         | Key that corresponds to the intersection associated with a collision                  |\n",
    "| LOCATION       | Description of the general location of the collision                                  |\n",
    "| SEVERITYDESC   | A detailed description of the severity of the collision                               |\n",
    "| COLLISIONTYPE  | Collision type                                                                        |\n",
    "| PERSONCOUNT    | The total number of people involved in the collision                                  |\n",
    "| PEDCOUNT       | The number of pedestrians involved in the collision                                   |\n",
    "| PEDCYLCOUNT    | The number of bicycles involved in the collision                                      |\n",
    "| VEHCOUNT       | The number of vehicles involved in the collision                                      |\n",
    "| INCDTTM        | The date and time of the incident                                                     |\n",
    "| JUNCTIONTYPE\t | Category of junction at which collision took place                                    |\n",
    "| SDOT_COLCODE\t | A code given to the collision by SDOT                                                 |\n",
    "| SDOT_COLDESC\t | A description of the collision corresponding to the collision code                    |\n",
    "| INATTENTIONIND | Whether or not collision was due to inattention                                       |\n",
    "| UNDERINFL\t     | Whether or not a driver involved was under the influence of drugs or alcohol          |\n",
    "| WEATHER\t     | A description of the weather conditions during the time of the collision.             |\n",
    "| ROADCOND       | The condition of the road during the collision                                        |\n",
    "| LIGHTCOND\t     | The light conditions during the collision                                             |\n",
    "| PEDROWNOTGRNT  | Whether or not the pedestrian right of way was not granted (Y/N)                      |\n",
    "| SPEEDING       |\tWhether or not speeding was a factor in the collision (Y/N)                          |\n",
    "| SEGLANEKEY     | A key for the lane segment in which the collision occurred                            |\t\n",
    "| CROSSWALKKEY   | A key for the crosswalk at which the collision occurred                               |\n",
    "| HITPARKEDCAR   | Whether or not the collision involved hitting a parked car (Y/N)                      |"
   ]
  },
  {
   "cell_type": "markdown",
   "metadata": {},
   "source": [
    "### Methodology"
   ]
  },
  {
   "cell_type": "markdown",
   "metadata": {},
   "source": [
    "### Reading the Data "
   ]
  },
  {
   "cell_type": "markdown",
   "metadata": {},
   "source": [
    "Downloading the data set and loading the data from the CSV file"
   ]
  },
  {
   "cell_type": "code",
   "execution_count": 1,
   "metadata": {},
   "outputs": [],
   "source": [
    "import pandas as pd\n",
    "url = 'https://data-seattlecitygis.opendata.arcgis.com/datasets/5b5c745e0f1f48e7a53acec63a0022ab_0.csv'\n",
    "df = pd.read_csv(url, low_memory=False)"
   ]
  },
  {
   "cell_type": "code",
   "execution_count": 2,
   "metadata": {
    "scrolled": true
   },
   "outputs": [
    {
     "data": {
      "text/html": [
       "<div>\n",
       "<style scoped>\n",
       "    .dataframe tbody tr th:only-of-type {\n",
       "        vertical-align: middle;\n",
       "    }\n",
       "\n",
       "    .dataframe tbody tr th {\n",
       "        vertical-align: top;\n",
       "    }\n",
       "\n",
       "    .dataframe thead th {\n",
       "        text-align: right;\n",
       "    }\n",
       "</style>\n",
       "<table border=\"1\" class=\"dataframe\">\n",
       "  <thead>\n",
       "    <tr style=\"text-align: right;\">\n",
       "      <th></th>\n",
       "      <th>X</th>\n",
       "      <th>Y</th>\n",
       "      <th>OBJECTID</th>\n",
       "      <th>INCKEY</th>\n",
       "      <th>COLDETKEY</th>\n",
       "      <th>REPORTNO</th>\n",
       "      <th>STATUS</th>\n",
       "      <th>ADDRTYPE</th>\n",
       "      <th>INTKEY</th>\n",
       "      <th>LOCATION</th>\n",
       "      <th>...</th>\n",
       "      <th>ROADCOND</th>\n",
       "      <th>LIGHTCOND</th>\n",
       "      <th>PEDROWNOTGRNT</th>\n",
       "      <th>SDOTCOLNUM</th>\n",
       "      <th>SPEEDING</th>\n",
       "      <th>ST_COLCODE</th>\n",
       "      <th>ST_COLDESC</th>\n",
       "      <th>SEGLANEKEY</th>\n",
       "      <th>CROSSWALKKEY</th>\n",
       "      <th>HITPARKEDCAR</th>\n",
       "    </tr>\n",
       "  </thead>\n",
       "  <tbody>\n",
       "    <tr>\n",
       "      <th>0</th>\n",
       "      <td>-122.344896</td>\n",
       "      <td>47.717173</td>\n",
       "      <td>1</td>\n",
       "      <td>1003</td>\n",
       "      <td>1003</td>\n",
       "      <td>3503158</td>\n",
       "      <td>Matched</td>\n",
       "      <td>Block</td>\n",
       "      <td>NaN</td>\n",
       "      <td>AURORA AVE N BETWEEN N 117TH PL AND N 125TH ST</td>\n",
       "      <td>...</td>\n",
       "      <td>Dry</td>\n",
       "      <td>Daylight</td>\n",
       "      <td>Y</td>\n",
       "      <td>NaN</td>\n",
       "      <td>NaN</td>\n",
       "      <td>45</td>\n",
       "      <td>Vehicle - Pedalcyclist</td>\n",
       "      <td>15057</td>\n",
       "      <td>0</td>\n",
       "      <td>N</td>\n",
       "    </tr>\n",
       "    <tr>\n",
       "      <th>1</th>\n",
       "      <td>-122.376467</td>\n",
       "      <td>47.543774</td>\n",
       "      <td>2</td>\n",
       "      <td>56200</td>\n",
       "      <td>56200</td>\n",
       "      <td>1795087</td>\n",
       "      <td>Matched</td>\n",
       "      <td>Block</td>\n",
       "      <td>NaN</td>\n",
       "      <td>35TH AVE SW BETWEEN SW MORGAN ST AND SW HOLLY ST</td>\n",
       "      <td>...</td>\n",
       "      <td>Dry</td>\n",
       "      <td>Dark - Street Lights On</td>\n",
       "      <td>NaN</td>\n",
       "      <td>6015003.0</td>\n",
       "      <td>NaN</td>\n",
       "      <td>0</td>\n",
       "      <td>Vehicle going straight hits pedestrian</td>\n",
       "      <td>0</td>\n",
       "      <td>0</td>\n",
       "      <td>N</td>\n",
       "    </tr>\n",
       "    <tr>\n",
       "      <th>2</th>\n",
       "      <td>-122.360735</td>\n",
       "      <td>47.701487</td>\n",
       "      <td>3</td>\n",
       "      <td>327037</td>\n",
       "      <td>328537</td>\n",
       "      <td>E979380</td>\n",
       "      <td>Matched</td>\n",
       "      <td>Intersection</td>\n",
       "      <td>37122.0</td>\n",
       "      <td>3RD AVE NW AND NW 100TH ST</td>\n",
       "      <td>...</td>\n",
       "      <td>Wet</td>\n",
       "      <td>Daylight</td>\n",
       "      <td>NaN</td>\n",
       "      <td>NaN</td>\n",
       "      <td>NaN</td>\n",
       "      <td>10</td>\n",
       "      <td>Entering at angle</td>\n",
       "      <td>0</td>\n",
       "      <td>0</td>\n",
       "      <td>N</td>\n",
       "    </tr>\n",
       "    <tr>\n",
       "      <th>3</th>\n",
       "      <td>-122.297415</td>\n",
       "      <td>47.599233</td>\n",
       "      <td>4</td>\n",
       "      <td>327278</td>\n",
       "      <td>328778</td>\n",
       "      <td>E996362</td>\n",
       "      <td>Unmatched</td>\n",
       "      <td>Intersection</td>\n",
       "      <td>30602.0</td>\n",
       "      <td>M L KING JR WAY S AND S JACKSON ST</td>\n",
       "      <td>...</td>\n",
       "      <td>NaN</td>\n",
       "      <td>NaN</td>\n",
       "      <td>NaN</td>\n",
       "      <td>NaN</td>\n",
       "      <td>NaN</td>\n",
       "      <td></td>\n",
       "      <td>NaN</td>\n",
       "      <td>0</td>\n",
       "      <td>0</td>\n",
       "      <td>N</td>\n",
       "    </tr>\n",
       "    <tr>\n",
       "      <th>4</th>\n",
       "      <td>-122.368001</td>\n",
       "      <td>47.653585</td>\n",
       "      <td>5</td>\n",
       "      <td>1248</td>\n",
       "      <td>1248</td>\n",
       "      <td>3645424</td>\n",
       "      <td>Unmatched</td>\n",
       "      <td>Block</td>\n",
       "      <td>NaN</td>\n",
       "      <td>W EWING ST BETWEEN 6TH AVE W AND W EWING PL</td>\n",
       "      <td>...</td>\n",
       "      <td>NaN</td>\n",
       "      <td>NaN</td>\n",
       "      <td>NaN</td>\n",
       "      <td>NaN</td>\n",
       "      <td>NaN</td>\n",
       "      <td></td>\n",
       "      <td>NaN</td>\n",
       "      <td>0</td>\n",
       "      <td>0</td>\n",
       "      <td>N</td>\n",
       "    </tr>\n",
       "  </tbody>\n",
       "</table>\n",
       "<p>5 rows × 40 columns</p>\n",
       "</div>"
      ],
      "text/plain": [
       "            X          Y  OBJECTID  INCKEY  COLDETKEY REPORTNO     STATUS  \\\n",
       "0 -122.344896  47.717173         1    1003       1003  3503158    Matched   \n",
       "1 -122.376467  47.543774         2   56200      56200  1795087    Matched   \n",
       "2 -122.360735  47.701487         3  327037     328537  E979380    Matched   \n",
       "3 -122.297415  47.599233         4  327278     328778  E996362  Unmatched   \n",
       "4 -122.368001  47.653585         5    1248       1248  3645424  Unmatched   \n",
       "\n",
       "       ADDRTYPE   INTKEY                                          LOCATION  \\\n",
       "0         Block      NaN    AURORA AVE N BETWEEN N 117TH PL AND N 125TH ST   \n",
       "1         Block      NaN  35TH AVE SW BETWEEN SW MORGAN ST AND SW HOLLY ST   \n",
       "2  Intersection  37122.0                        3RD AVE NW AND NW 100TH ST   \n",
       "3  Intersection  30602.0                M L KING JR WAY S AND S JACKSON ST   \n",
       "4         Block      NaN       W EWING ST BETWEEN 6TH AVE W AND W EWING PL   \n",
       "\n",
       "   ... ROADCOND                LIGHTCOND PEDROWNOTGRNT SDOTCOLNUM SPEEDING  \\\n",
       "0  ...      Dry                 Daylight             Y        NaN      NaN   \n",
       "1  ...      Dry  Dark - Street Lights On           NaN  6015003.0      NaN   \n",
       "2  ...      Wet                 Daylight           NaN        NaN      NaN   \n",
       "3  ...      NaN                      NaN           NaN        NaN      NaN   \n",
       "4  ...      NaN                      NaN           NaN        NaN      NaN   \n",
       "\n",
       "   ST_COLCODE                              ST_COLDESC  SEGLANEKEY  \\\n",
       "0          45                  Vehicle - Pedalcyclist       15057   \n",
       "1           0  Vehicle going straight hits pedestrian           0   \n",
       "2          10                       Entering at angle           0   \n",
       "3                                                 NaN           0   \n",
       "4                                                 NaN           0   \n",
       "\n",
       "   CROSSWALKKEY  HITPARKEDCAR  \n",
       "0             0             N  \n",
       "1             0             N  \n",
       "2             0             N  \n",
       "3             0             N  \n",
       "4             0             N  \n",
       "\n",
       "[5 rows x 40 columns]"
      ]
     },
     "execution_count": 2,
     "metadata": {},
     "output_type": "execute_result"
    }
   ],
   "source": [
    "df.head()"
   ]
  },
  {
   "cell_type": "code",
   "execution_count": 3,
   "metadata": {
    "scrolled": true
   },
   "outputs": [
    {
     "data": {
      "text/plain": [
       "(221525, 40)"
      ]
     },
     "execution_count": 3,
     "metadata": {},
     "output_type": "execute_result"
    }
   ],
   "source": [
    "df.shape"
   ]
  },
  {
   "cell_type": "code",
   "execution_count": 4,
   "metadata": {},
   "outputs": [
    {
     "data": {
      "text/plain": [
       "X                  float64\n",
       "Y                  float64\n",
       "OBJECTID             int64\n",
       "INCKEY               int64\n",
       "COLDETKEY            int64\n",
       "REPORTNO            object\n",
       "STATUS              object\n",
       "ADDRTYPE            object\n",
       "INTKEY             float64\n",
       "LOCATION            object\n",
       "EXCEPTRSNCODE       object\n",
       "EXCEPTRSNDESC       object\n",
       "SEVERITYCODE        object\n",
       "SEVERITYDESC        object\n",
       "COLLISIONTYPE       object\n",
       "PERSONCOUNT          int64\n",
       "PEDCOUNT             int64\n",
       "PEDCYLCOUNT          int64\n",
       "VEHCOUNT             int64\n",
       "INJURIES             int64\n",
       "SERIOUSINJURIES      int64\n",
       "FATALITIES           int64\n",
       "INCDATE             object\n",
       "INCDTTM             object\n",
       "JUNCTIONTYPE        object\n",
       "SDOT_COLCODE       float64\n",
       "SDOT_COLDESC        object\n",
       "INATTENTIONIND      object\n",
       "UNDERINFL           object\n",
       "WEATHER             object\n",
       "ROADCOND            object\n",
       "LIGHTCOND           object\n",
       "PEDROWNOTGRNT       object\n",
       "SDOTCOLNUM         float64\n",
       "SPEEDING            object\n",
       "ST_COLCODE          object\n",
       "ST_COLDESC          object\n",
       "SEGLANEKEY           int64\n",
       "CROSSWALKKEY         int64\n",
       "HITPARKEDCAR        object\n",
       "dtype: object"
      ]
     },
     "execution_count": 4,
     "metadata": {},
     "output_type": "execute_result"
    }
   ],
   "source": [
    "df.dtypes"
   ]
  },
  {
   "cell_type": "code",
   "execution_count": 6,
   "metadata": {
    "scrolled": true
   },
   "outputs": [
    {
     "data": {
      "text/html": [
       "<div>\n",
       "<style scoped>\n",
       "    .dataframe tbody tr th:only-of-type {\n",
       "        vertical-align: middle;\n",
       "    }\n",
       "\n",
       "    .dataframe tbody tr th {\n",
       "        vertical-align: top;\n",
       "    }\n",
       "\n",
       "    .dataframe thead th {\n",
       "        text-align: right;\n",
       "    }\n",
       "</style>\n",
       "<table border=\"1\" class=\"dataframe\">\n",
       "  <thead>\n",
       "    <tr style=\"text-align: right;\">\n",
       "      <th></th>\n",
       "      <th>X</th>\n",
       "      <th>Y</th>\n",
       "      <th>OBJECTID</th>\n",
       "      <th>INCKEY</th>\n",
       "      <th>COLDETKEY</th>\n",
       "      <th>REPORTNO</th>\n",
       "      <th>STATUS</th>\n",
       "      <th>ADDRTYPE</th>\n",
       "      <th>INTKEY</th>\n",
       "      <th>LOCATION</th>\n",
       "      <th>...</th>\n",
       "      <th>ROADCOND</th>\n",
       "      <th>LIGHTCOND</th>\n",
       "      <th>PEDROWNOTGRNT</th>\n",
       "      <th>SDOTCOLNUM</th>\n",
       "      <th>SPEEDING</th>\n",
       "      <th>ST_COLCODE</th>\n",
       "      <th>ST_COLDESC</th>\n",
       "      <th>SEGLANEKEY</th>\n",
       "      <th>CROSSWALKKEY</th>\n",
       "      <th>HITPARKEDCAR</th>\n",
       "    </tr>\n",
       "  </thead>\n",
       "  <tbody>\n",
       "    <tr>\n",
       "      <th>count</th>\n",
       "      <td>214050.000000</td>\n",
       "      <td>214050.000000</td>\n",
       "      <td>221525.000000</td>\n",
       "      <td>221525.000000</td>\n",
       "      <td>221525.000000</td>\n",
       "      <td>221525</td>\n",
       "      <td>221525</td>\n",
       "      <td>217813</td>\n",
       "      <td>71936.000000</td>\n",
       "      <td>216935</td>\n",
       "      <td>...</td>\n",
       "      <td>195103</td>\n",
       "      <td>194933</td>\n",
       "      <td>5195</td>\n",
       "      <td>1.272050e+05</td>\n",
       "      <td>9929</td>\n",
       "      <td>212112</td>\n",
       "      <td>195212</td>\n",
       "      <td>221525.000000</td>\n",
       "      <td>2.215250e+05</td>\n",
       "      <td>221525</td>\n",
       "    </tr>\n",
       "    <tr>\n",
       "      <th>unique</th>\n",
       "      <td>NaN</td>\n",
       "      <td>NaN</td>\n",
       "      <td>NaN</td>\n",
       "      <td>NaN</td>\n",
       "      <td>NaN</td>\n",
       "      <td>221522</td>\n",
       "      <td>2</td>\n",
       "      <td>3</td>\n",
       "      <td>NaN</td>\n",
       "      <td>25202</td>\n",
       "      <td>...</td>\n",
       "      <td>9</td>\n",
       "      <td>9</td>\n",
       "      <td>1</td>\n",
       "      <td>NaN</td>\n",
       "      <td>1</td>\n",
       "      <td>63</td>\n",
       "      <td>62</td>\n",
       "      <td>NaN</td>\n",
       "      <td>NaN</td>\n",
       "      <td>2</td>\n",
       "    </tr>\n",
       "    <tr>\n",
       "      <th>top</th>\n",
       "      <td>NaN</td>\n",
       "      <td>NaN</td>\n",
       "      <td>NaN</td>\n",
       "      <td>NaN</td>\n",
       "      <td>NaN</td>\n",
       "      <td>1782439</td>\n",
       "      <td>Matched</td>\n",
       "      <td>Block</td>\n",
       "      <td>NaN</td>\n",
       "      <td>BATTERY ST TUNNEL NB BETWEEN ALASKAN WY VI NB ...</td>\n",
       "      <td>...</td>\n",
       "      <td>Dry</td>\n",
       "      <td>Daylight</td>\n",
       "      <td>Y</td>\n",
       "      <td>NaN</td>\n",
       "      <td>Y</td>\n",
       "      <td>32</td>\n",
       "      <td>One parked--one moving</td>\n",
       "      <td>NaN</td>\n",
       "      <td>NaN</td>\n",
       "      <td>N</td>\n",
       "    </tr>\n",
       "    <tr>\n",
       "      <th>freq</th>\n",
       "      <td>NaN</td>\n",
       "      <td>NaN</td>\n",
       "      <td>NaN</td>\n",
       "      <td>NaN</td>\n",
       "      <td>NaN</td>\n",
       "      <td>2</td>\n",
       "      <td>195285</td>\n",
       "      <td>144999</td>\n",
       "      <td>NaN</td>\n",
       "      <td>298</td>\n",
       "      <td>...</td>\n",
       "      <td>128588</td>\n",
       "      <td>119492</td>\n",
       "      <td>5195</td>\n",
       "      <td>NaN</td>\n",
       "      <td>9929</td>\n",
       "      <td>44931</td>\n",
       "      <td>44931</td>\n",
       "      <td>NaN</td>\n",
       "      <td>NaN</td>\n",
       "      <td>209492</td>\n",
       "    </tr>\n",
       "    <tr>\n",
       "      <th>mean</th>\n",
       "      <td>-122.330756</td>\n",
       "      <td>47.620196</td>\n",
       "      <td>110763.000000</td>\n",
       "      <td>144824.873233</td>\n",
       "      <td>145053.886627</td>\n",
       "      <td>NaN</td>\n",
       "      <td>NaN</td>\n",
       "      <td>NaN</td>\n",
       "      <td>37626.275537</td>\n",
       "      <td>NaN</td>\n",
       "      <td>...</td>\n",
       "      <td>NaN</td>\n",
       "      <td>NaN</td>\n",
       "      <td>NaN</td>\n",
       "      <td>7.971063e+06</td>\n",
       "      <td>NaN</td>\n",
       "      <td>NaN</td>\n",
       "      <td>NaN</td>\n",
       "      <td>261.135903</td>\n",
       "      <td>9.577244e+03</td>\n",
       "      <td>NaN</td>\n",
       "    </tr>\n",
       "    <tr>\n",
       "      <th>std</th>\n",
       "      <td>0.030056</td>\n",
       "      <td>0.056048</td>\n",
       "      <td>63948.903529</td>\n",
       "      <td>89222.567072</td>\n",
       "      <td>89598.173976</td>\n",
       "      <td>NaN</td>\n",
       "      <td>NaN</td>\n",
       "      <td>NaN</td>\n",
       "      <td>51968.207339</td>\n",
       "      <td>NaN</td>\n",
       "      <td>...</td>\n",
       "      <td>NaN</td>\n",
       "      <td>NaN</td>\n",
       "      <td>NaN</td>\n",
       "      <td>2.611523e+06</td>\n",
       "      <td>NaN</td>\n",
       "      <td>NaN</td>\n",
       "      <td>NaN</td>\n",
       "      <td>3246.962907</td>\n",
       "      <td>7.146156e+04</td>\n",
       "      <td>NaN</td>\n",
       "    </tr>\n",
       "    <tr>\n",
       "      <th>min</th>\n",
       "      <td>-122.419091</td>\n",
       "      <td>47.495573</td>\n",
       "      <td>1.000000</td>\n",
       "      <td>1001.000000</td>\n",
       "      <td>1001.000000</td>\n",
       "      <td>NaN</td>\n",
       "      <td>NaN</td>\n",
       "      <td>NaN</td>\n",
       "      <td>23807.000000</td>\n",
       "      <td>NaN</td>\n",
       "      <td>...</td>\n",
       "      <td>NaN</td>\n",
       "      <td>NaN</td>\n",
       "      <td>NaN</td>\n",
       "      <td>1.007024e+06</td>\n",
       "      <td>NaN</td>\n",
       "      <td>NaN</td>\n",
       "      <td>NaN</td>\n",
       "      <td>0.000000</td>\n",
       "      <td>0.000000e+00</td>\n",
       "      <td>NaN</td>\n",
       "    </tr>\n",
       "    <tr>\n",
       "      <th>25%</th>\n",
       "      <td>-122.349280</td>\n",
       "      <td>47.577133</td>\n",
       "      <td>55382.000000</td>\n",
       "      <td>71668.000000</td>\n",
       "      <td>71668.000000</td>\n",
       "      <td>NaN</td>\n",
       "      <td>NaN</td>\n",
       "      <td>NaN</td>\n",
       "      <td>28653.000000</td>\n",
       "      <td>NaN</td>\n",
       "      <td>...</td>\n",
       "      <td>NaN</td>\n",
       "      <td>NaN</td>\n",
       "      <td>NaN</td>\n",
       "      <td>6.007029e+06</td>\n",
       "      <td>NaN</td>\n",
       "      <td>NaN</td>\n",
       "      <td>NaN</td>\n",
       "      <td>0.000000</td>\n",
       "      <td>0.000000e+00</td>\n",
       "      <td>NaN</td>\n",
       "    </tr>\n",
       "    <tr>\n",
       "      <th>50%</th>\n",
       "      <td>-122.330363</td>\n",
       "      <td>47.616033</td>\n",
       "      <td>110763.000000</td>\n",
       "      <td>127252.000000</td>\n",
       "      <td>127252.000000</td>\n",
       "      <td>NaN</td>\n",
       "      <td>NaN</td>\n",
       "      <td>NaN</td>\n",
       "      <td>29973.000000</td>\n",
       "      <td>NaN</td>\n",
       "      <td>...</td>\n",
       "      <td>NaN</td>\n",
       "      <td>NaN</td>\n",
       "      <td>NaN</td>\n",
       "      <td>8.033011e+06</td>\n",
       "      <td>NaN</td>\n",
       "      <td>NaN</td>\n",
       "      <td>NaN</td>\n",
       "      <td>0.000000</td>\n",
       "      <td>0.000000e+00</td>\n",
       "      <td>NaN</td>\n",
       "    </tr>\n",
       "    <tr>\n",
       "      <th>75%</th>\n",
       "      <td>-122.311998</td>\n",
       "      <td>47.664290</td>\n",
       "      <td>166144.000000</td>\n",
       "      <td>209935.000000</td>\n",
       "      <td>210155.000000</td>\n",
       "      <td>NaN</td>\n",
       "      <td>NaN</td>\n",
       "      <td>NaN</td>\n",
       "      <td>33984.000000</td>\n",
       "      <td>NaN</td>\n",
       "      <td>...</td>\n",
       "      <td>NaN</td>\n",
       "      <td>NaN</td>\n",
       "      <td>NaN</td>\n",
       "      <td>1.018101e+07</td>\n",
       "      <td>NaN</td>\n",
       "      <td>NaN</td>\n",
       "      <td>NaN</td>\n",
       "      <td>0.000000</td>\n",
       "      <td>0.000000e+00</td>\n",
       "      <td>NaN</td>\n",
       "    </tr>\n",
       "    <tr>\n",
       "      <th>max</th>\n",
       "      <td>-122.238949</td>\n",
       "      <td>47.734142</td>\n",
       "      <td>221525.000000</td>\n",
       "      <td>334020.000000</td>\n",
       "      <td>335520.000000</td>\n",
       "      <td>NaN</td>\n",
       "      <td>NaN</td>\n",
       "      <td>NaN</td>\n",
       "      <td>764413.000000</td>\n",
       "      <td>NaN</td>\n",
       "      <td>...</td>\n",
       "      <td>NaN</td>\n",
       "      <td>NaN</td>\n",
       "      <td>NaN</td>\n",
       "      <td>1.307202e+07</td>\n",
       "      <td>NaN</td>\n",
       "      <td>NaN</td>\n",
       "      <td>NaN</td>\n",
       "      <td>525241.000000</td>\n",
       "      <td>5.239700e+06</td>\n",
       "      <td>NaN</td>\n",
       "    </tr>\n",
       "  </tbody>\n",
       "</table>\n",
       "<p>11 rows × 40 columns</p>\n",
       "</div>"
      ],
      "text/plain": [
       "                    X              Y       OBJECTID         INCKEY  \\\n",
       "count   214050.000000  214050.000000  221525.000000  221525.000000   \n",
       "unique            NaN            NaN            NaN            NaN   \n",
       "top               NaN            NaN            NaN            NaN   \n",
       "freq              NaN            NaN            NaN            NaN   \n",
       "mean      -122.330756      47.620196  110763.000000  144824.873233   \n",
       "std          0.030056       0.056048   63948.903529   89222.567072   \n",
       "min       -122.419091      47.495573       1.000000    1001.000000   \n",
       "25%       -122.349280      47.577133   55382.000000   71668.000000   \n",
       "50%       -122.330363      47.616033  110763.000000  127252.000000   \n",
       "75%       -122.311998      47.664290  166144.000000  209935.000000   \n",
       "max       -122.238949      47.734142  221525.000000  334020.000000   \n",
       "\n",
       "            COLDETKEY REPORTNO   STATUS ADDRTYPE         INTKEY  \\\n",
       "count   221525.000000   221525   221525   217813   71936.000000   \n",
       "unique            NaN   221522        2        3            NaN   \n",
       "top               NaN  1782439  Matched    Block            NaN   \n",
       "freq              NaN        2   195285   144999            NaN   \n",
       "mean    145053.886627      NaN      NaN      NaN   37626.275537   \n",
       "std      89598.173976      NaN      NaN      NaN   51968.207339   \n",
       "min       1001.000000      NaN      NaN      NaN   23807.000000   \n",
       "25%      71668.000000      NaN      NaN      NaN   28653.000000   \n",
       "50%     127252.000000      NaN      NaN      NaN   29973.000000   \n",
       "75%     210155.000000      NaN      NaN      NaN   33984.000000   \n",
       "max     335520.000000      NaN      NaN      NaN  764413.000000   \n",
       "\n",
       "                                                 LOCATION  ... ROADCOND  \\\n",
       "count                                              216935  ...   195103   \n",
       "unique                                              25202  ...        9   \n",
       "top     BATTERY ST TUNNEL NB BETWEEN ALASKAN WY VI NB ...  ...      Dry   \n",
       "freq                                                  298  ...   128588   \n",
       "mean                                                  NaN  ...      NaN   \n",
       "std                                                   NaN  ...      NaN   \n",
       "min                                                   NaN  ...      NaN   \n",
       "25%                                                   NaN  ...      NaN   \n",
       "50%                                                   NaN  ...      NaN   \n",
       "75%                                                   NaN  ...      NaN   \n",
       "max                                                   NaN  ...      NaN   \n",
       "\n",
       "       LIGHTCOND PEDROWNOTGRNT    SDOTCOLNUM SPEEDING  ST_COLCODE  \\\n",
       "count     194933          5195  1.272050e+05     9929      212112   \n",
       "unique         9             1           NaN        1          63   \n",
       "top     Daylight             Y           NaN        Y          32   \n",
       "freq      119492          5195           NaN     9929       44931   \n",
       "mean         NaN           NaN  7.971063e+06      NaN         NaN   \n",
       "std          NaN           NaN  2.611523e+06      NaN         NaN   \n",
       "min          NaN           NaN  1.007024e+06      NaN         NaN   \n",
       "25%          NaN           NaN  6.007029e+06      NaN         NaN   \n",
       "50%          NaN           NaN  8.033011e+06      NaN         NaN   \n",
       "75%          NaN           NaN  1.018101e+07      NaN         NaN   \n",
       "max          NaN           NaN  1.307202e+07      NaN         NaN   \n",
       "\n",
       "                    ST_COLDESC     SEGLANEKEY  CROSSWALKKEY  HITPARKEDCAR  \n",
       "count                   195212  221525.000000  2.215250e+05        221525  \n",
       "unique                      62            NaN           NaN             2  \n",
       "top     One parked--one moving            NaN           NaN             N  \n",
       "freq                     44931            NaN           NaN        209492  \n",
       "mean                       NaN     261.135903  9.577244e+03           NaN  \n",
       "std                        NaN    3246.962907  7.146156e+04           NaN  \n",
       "min                        NaN       0.000000  0.000000e+00           NaN  \n",
       "25%                        NaN       0.000000  0.000000e+00           NaN  \n",
       "50%                        NaN       0.000000  0.000000e+00           NaN  \n",
       "75%                        NaN       0.000000  0.000000e+00           NaN  \n",
       "max                        NaN  525241.000000  5.239700e+06           NaN  \n",
       "\n",
       "[11 rows x 40 columns]"
      ]
     },
     "execution_count": 6,
     "metadata": {},
     "output_type": "execute_result"
    }
   ],
   "source": [
    "df.describe(include=\"all\")"
   ]
  },
  {
   "cell_type": "code",
   "execution_count": 7,
   "metadata": {},
   "outputs": [
    {
     "name": "stdout",
     "output_type": "stream",
     "text": [
      "<class 'pandas.core.frame.DataFrame'>\n",
      "RangeIndex: 221525 entries, 0 to 221524\n",
      "Data columns (total 40 columns):\n",
      " #   Column           Non-Null Count   Dtype  \n",
      "---  ------           --------------   -----  \n",
      " 0   X                214050 non-null  float64\n",
      " 1   Y                214050 non-null  float64\n",
      " 2   OBJECTID         221525 non-null  int64  \n",
      " 3   INCKEY           221525 non-null  int64  \n",
      " 4   COLDETKEY        221525 non-null  int64  \n",
      " 5   REPORTNO         221525 non-null  object \n",
      " 6   STATUS           221525 non-null  object \n",
      " 7   ADDRTYPE         217813 non-null  object \n",
      " 8   INTKEY           71936 non-null   float64\n",
      " 9   LOCATION         216935 non-null  object \n",
      " 10  EXCEPTRSNCODE    101122 non-null  object \n",
      " 11  EXCEPTRSNDESC    11779 non-null   object \n",
      " 12  SEVERITYCODE     221524 non-null  object \n",
      " 13  SEVERITYDESC     221525 non-null  object \n",
      " 14  COLLISIONTYPE    195212 non-null  object \n",
      " 15  PERSONCOUNT      221525 non-null  int64  \n",
      " 16  PEDCOUNT         221525 non-null  int64  \n",
      " 17  PEDCYLCOUNT      221525 non-null  int64  \n",
      " 18  VEHCOUNT         221525 non-null  int64  \n",
      " 19  INJURIES         221525 non-null  int64  \n",
      " 20  SERIOUSINJURIES  221525 non-null  int64  \n",
      " 21  FATALITIES       221525 non-null  int64  \n",
      " 22  INCDATE          221525 non-null  object \n",
      " 23  INCDTTM          221525 non-null  object \n",
      " 24  JUNCTIONTYPE     209551 non-null  object \n",
      " 25  SDOT_COLCODE     221524 non-null  float64\n",
      " 26  SDOT_COLDESC     221524 non-null  object \n",
      " 27  INATTENTIONIND   30188 non-null   object \n",
      " 28  UNDERINFL        195232 non-null  object \n",
      " 29  WEATHER          195022 non-null  object \n",
      " 30  ROADCOND         195103 non-null  object \n",
      " 31  LIGHTCOND        194933 non-null  object \n",
      " 32  PEDROWNOTGRNT    5195 non-null    object \n",
      " 33  SDOTCOLNUM       127205 non-null  float64\n",
      " 34  SPEEDING         9929 non-null    object \n",
      " 35  ST_COLCODE       212112 non-null  object \n",
      " 36  ST_COLDESC       195212 non-null  object \n",
      " 37  SEGLANEKEY       221525 non-null  int64  \n",
      " 38  CROSSWALKKEY     221525 non-null  int64  \n",
      " 39  HITPARKEDCAR     221525 non-null  object \n",
      "dtypes: float64(5), int64(12), object(23)\n",
      "memory usage: 48.2+ MB\n"
     ]
    }
   ],
   "source": [
    "df.info()"
   ]
  },
  {
   "cell_type": "markdown",
   "metadata": {},
   "source": [
    "Convert the 'INCDTTM' column to datetime format"
   ]
  },
  {
   "cell_type": "code",
   "execution_count": 8,
   "metadata": {},
   "outputs": [],
   "source": [
    "df['INCDTTM'] = pd.to_datetime(df['INCDTTM'])\n",
    "df['INCDATE'] = pd.to_datetime(df['INCDATE'])"
   ]
  },
  {
   "cell_type": "code",
   "execution_count": 4,
   "metadata": {},
   "outputs": [
    {
     "data": {
      "text/plain": [
       "1     137671\n",
       "2      58783\n",
       "0      21615\n",
       "2b      3105\n",
       "3        350\n",
       "Name: SEVERITYCODE, dtype: int64"
      ]
     },
     "execution_count": 4,
     "metadata": {},
     "output_type": "execute_result"
    }
   ],
   "source": [
    "df['SEVERITYCODE'].value_counts()"
   ]
  },
  {
   "cell_type": "markdown",
   "metadata": {},
   "source": [
    "Severity of the collision\n",
    "3  — fatality: 350\n",
    "2b — serious injury: 3105\n",
    "2  — injury: 58783\n",
    "1  — prop damage: 137671\n",
    "0  — unknown: 21615"
   ]
  },
  {
   "cell_type": "code",
   "execution_count": 9,
   "metadata": {},
   "outputs": [
    {
     "data": {
      "text/plain": [
       "Block           144999\n",
       "Intersection     71936\n",
       "Alley              878\n",
       "Name: ADDRTYPE, dtype: int64"
      ]
     },
     "execution_count": 9,
     "metadata": {},
     "output_type": "execute_result"
    }
   ],
   "source": [
    "df['ADDRTYPE'].value_counts()"
   ]
  },
  {
   "cell_type": "markdown",
   "metadata": {},
   "source": [
    "Collision address type\n",
    "Block:          144999\n",
    "Intersection:    71936\n",
    "Alley:             878"
   ]
  },
  {
   "cell_type": "code",
   "execution_count": 11,
   "metadata": {},
   "outputs": [
    {
     "data": {
      "text/plain": [
       "Parked Car    48551\n",
       "Angles        35573\n",
       "Rear Ended    34691\n",
       "Other         24588\n",
       "Sideswipe     18891\n",
       "Left Turn     14115\n",
       "Pedestrian     7666\n",
       "Cycles         5932\n",
       "Right Turn     3017\n",
       "Head On        2188\n",
       "Name: COLLISIONTYPE, dtype: int64"
      ]
     },
     "execution_count": 11,
     "metadata": {},
     "output_type": "execute_result"
    }
   ],
   "source": [
    "df['COLLISIONTYPE'].value_counts()"
   ]
  },
  {
   "cell_type": "markdown",
   "metadata": {},
   "source": [
    "Collision type\n",
    "Parked Car:    48551\n",
    "Angles:        35573\n",
    "Rear Ended:    34691\n",
    "Other:         24588\n",
    "Sideswipe:     18891\n",
    "Left Turn:     14115\n",
    "Pedestrian:     7666\n",
    "Cycles:         5932\n",
    "Right Turn:     3017\n",
    "Head On:        2188"
   ]
  },
  {
   "cell_type": "code",
   "execution_count": 12,
   "metadata": {},
   "outputs": [
    {
     "data": {
      "text/plain": [
       "Y    30188\n",
       "Name: INATTENTIONIND, dtype: int64"
      ]
     },
     "execution_count": 12,
     "metadata": {},
     "output_type": "execute_result"
    }
   ],
   "source": [
    "df['INATTENTIONIND'].value_counts()"
   ]
  },
  {
   "cell_type": "code",
   "execution_count": 13,
   "metadata": {},
   "outputs": [
    {
     "data": {
      "text/plain": [
       "N    103927\n",
       "0     81676\n",
       "Y      5399\n",
       "1      4230\n",
       "Name: UNDERINFL, dtype: int64"
      ]
     },
     "execution_count": 13,
     "metadata": {},
     "output_type": "execute_result"
    }
   ],
   "source": [
    "df['UNDERINFL'].value_counts()"
   ]
  },
  {
   "cell_type": "code",
   "execution_count": 14,
   "metadata": {},
   "outputs": [
    {
     "data": {
      "text/plain": [
       "Clear                       114738\n",
       "Raining                      34036\n",
       "Overcast                     28552\n",
       "Unknown                      15131\n",
       "Snowing                        919\n",
       "Other                          860\n",
       "Fog/Smog/Smoke                 577\n",
       "Sleet/Hail/Freezing Rain       116\n",
       "Blowing Sand/Dirt               56\n",
       "Severe Crosswind                26\n",
       "Partly Cloudy                   10\n",
       "Blowing Snow                     1\n",
       "Name: WEATHER, dtype: int64"
      ]
     },
     "execution_count": 14,
     "metadata": {},
     "output_type": "execute_result"
    }
   ],
   "source": [
    "df['WEATHER'].value_counts()"
   ]
  },
  {
   "cell_type": "code",
   "execution_count": 15,
   "metadata": {},
   "outputs": [
    {
     "data": {
      "text/plain": [
       "Dry               128588\n",
       "Wet                48734\n",
       "Unknown            15139\n",
       "Ice                 1232\n",
       "Snow/Slush          1014\n",
       "Other                136\n",
       "Standing Water       119\n",
       "Sand/Mud/Dirt         77\n",
       "Oil                   64\n",
       "Name: ROADCOND, dtype: int64"
      ]
     },
     "execution_count": 15,
     "metadata": {},
     "output_type": "execute_result"
    }
   ],
   "source": [
    "df['ROADCOND'].value_counts()"
   ]
  },
  {
   "cell_type": "code",
   "execution_count": 16,
   "metadata": {},
   "outputs": [
    {
     "data": {
      "text/plain": [
       "Daylight                    119492\n",
       "Dark - Street Lights On      50133\n",
       "Unknown                      13532\n",
       "Dusk                          6082\n",
       "Dawn                          2609\n",
       "Dark - No Street Lights       1579\n",
       "Dark - Street Lights Off      1239\n",
       "Other                          244\n",
       "Dark - Unknown Lighting         23\n",
       "Name: LIGHTCOND, dtype: int64"
      ]
     },
     "execution_count": 16,
     "metadata": {},
     "output_type": "execute_result"
    }
   ],
   "source": [
    "df['LIGHTCOND'].value_counts()"
   ]
  },
  {
   "cell_type": "code",
   "execution_count": 17,
   "metadata": {},
   "outputs": [
    {
     "data": {
      "text/plain": [
       "Y    9929\n",
       "Name: SPEEDING, dtype: int64"
      ]
     },
     "execution_count": 17,
     "metadata": {},
     "output_type": "execute_result"
    }
   ],
   "source": [
    "df['SPEEDING'].value_counts()"
   ]
  },
  {
   "cell_type": "code",
   "execution_count": 18,
   "metadata": {},
   "outputs": [
    {
     "data": {
      "text/plain": [
       "0        218489\n",
       "6532         19\n",
       "6078         19\n",
       "12162        18\n",
       "10336        15\n",
       "          ...  \n",
       "9803          1\n",
       "14281         1\n",
       "4178          1\n",
       "6355          1\n",
       "9402          1\n",
       "Name: SEGLANEKEY, Length: 2101, dtype: int64"
      ]
     },
     "execution_count": 18,
     "metadata": {},
     "output_type": "execute_result"
    }
   ],
   "source": [
    "df['SEGLANEKEY'].value_counts()"
   ]
  },
  {
   "cell_type": "code",
   "execution_count": 19,
   "metadata": {},
   "outputs": [
    {
     "data": {
      "text/plain": [
       "0         217283\n",
       "523609        19\n",
       "520838        15\n",
       "524265        13\n",
       "525567        13\n",
       "           ...  \n",
       "525111         1\n",
       "523080         1\n",
       "521033         1\n",
       "523208         1\n",
       "521927         1\n",
       "Name: CROSSWALKKEY, Length: 2343, dtype: int64"
      ]
     },
     "execution_count": 19,
     "metadata": {},
     "output_type": "execute_result"
    }
   ],
   "source": [
    "df['CROSSWALKKEY'].value_counts()"
   ]
  },
  {
   "cell_type": "code",
   "execution_count": null,
   "metadata": {},
   "outputs": [],
   "source": []
  }
 ],
 "metadata": {
  "kernelspec": {
   "display_name": "Python 3",
   "language": "python",
   "name": "python3"
  },
  "language_info": {
   "codemirror_mode": {
    "name": "ipython",
    "version": 3
   },
   "file_extension": ".py",
   "mimetype": "text/x-python",
   "name": "python",
   "nbconvert_exporter": "python",
   "pygments_lexer": "ipython3",
   "version": "3.8.5"
  }
 },
 "nbformat": 4,
 "nbformat_minor": 4
}
